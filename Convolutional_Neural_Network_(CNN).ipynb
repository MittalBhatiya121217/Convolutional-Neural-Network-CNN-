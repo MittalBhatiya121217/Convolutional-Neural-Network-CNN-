{
  "nbformat": 4,
  "nbformat_minor": 0,
  "metadata": {
    "colab": {
      "provenance": []
    },
    "kernelspec": {
      "name": "python3",
      "display_name": "Python 3"
    },
    "language_info": {
      "name": "python"
    }
  },
  "cells": [
    {
      "cell_type": "markdown",
      "source": [
        "# **Convolutional Neural Network (CNN)**"
      ],
      "metadata": {
        "id": "OUgcSgfm-gVw"
      }
    },
    {
      "cell_type": "markdown",
      "source": [
        "https://sebastianraschka.com/blog/2020/intro-to-dl-ch01.html\n",
        "\n",
        "https://towardsdatascience.com/neural-networks-basics-29cc093b82be"
      ],
      "metadata": {
        "id": "IU-VdJjgiZjw"
      }
    },
    {
      "cell_type": "markdown",
      "source": [
        "https://towardsdatascience.com/machine-learning-for-beginners-an-introduction-to-neural-networks-d49f22d238f9"
      ],
      "metadata": {
        "id": "NwztueiJk-Uq"
      }
    },
    {
      "cell_type": "markdown",
      "source": [
        "https://medium.com/@himadrisankarchatterjee/a-basic-introduction-to-convolutional-neural-network-8e39019b27c4"
      ],
      "metadata": {
        "id": "EIMK3skQiCyf"
      }
    },
    {
      "cell_type": "markdown",
      "source": [
        "## **Load packages**"
      ],
      "metadata": {
        "id": "275luP9V-ugJ"
      }
    },
    {
      "cell_type": "code",
      "source": [
        "import tensorflow as tf\n",
        "from tensorflow.keras import datasets, layers, models\n",
        "import matplotlib.pyplot as plt"
      ],
      "metadata": {
        "id": "Zd1qUq_4-41w"
      },
      "execution_count": null,
      "outputs": []
    },
    {
      "cell_type": "markdown",
      "source": [
        "## **Load Data**\n",
        "dataset: CIFAR10"
      ],
      "metadata": {
        "id": "ZAsmfiR5_zui"
      }
    },
    {
      "cell_type": "code",
      "source": [
        "(train_images, train_labels), (test_images, test_labels) = datasets.cifar10.load_data()\n",
        "\n",
        "# Normalize pixel values to be between 0 and 1\n",
        "train_images, test_images = train_images / 255.0, test_images / 255.0"
      ],
      "metadata": {
        "id": "Ta5UtvAe_Uda"
      },
      "execution_count": null,
      "outputs": []
    },
    {
      "cell_type": "code",
      "source": [
        "train_images.shape"
      ],
      "metadata": {
        "id": "WH2KgXWn_Vep",
        "colab": {
          "base_uri": "https://localhost:8080/"
        },
        "outputId": "7b01615d-5fce-4101-fb42-10dd3b514771"
      },
      "execution_count": null,
      "outputs": [
        {
          "output_type": "execute_result",
          "data": {
            "text/plain": [
              "(50000, 32, 32, 3)"
            ]
          },
          "metadata": {},
          "execution_count": 14
        }
      ]
    },
    {
      "cell_type": "markdown",
      "source": [
        "## **Create Model**"
      ],
      "metadata": {
        "id": "MbhqqGHuARUA"
      }
    },
    {
      "cell_type": "code",
      "source": [
        "model = models.Sequential()\n",
        "#add three converlutional layers\n",
        "model.add(layers.Conv2D(32, (3, 3), activation='relu', input_shape=(32, 32, 3)))\n",
        "model.add(layers.MaxPooling2D((2, 2)))\n",
        "model.add(layers.Conv2D(64, (3, 3), activation='relu'))\n",
        "model.add(layers.MaxPooling2D((2, 2)))\n",
        "model.add(layers.Conv2D(64, (3, 3), activation='relu'))"
      ],
      "metadata": {
        "id": "AH-FZtOsAVS_"
      },
      "execution_count": null,
      "outputs": []
    },
    {
      "cell_type": "code",
      "source": [
        "#add flatten and dense layers\n",
        "model.add(layers.Flatten())\n",
        "model.add(layers.Dense(64, activation='relu'))\n",
        "model.add(layers.Dense(10))"
      ],
      "metadata": {
        "id": "bkNcNQkdBpzv"
      },
      "execution_count": null,
      "outputs": []
    },
    {
      "cell_type": "code",
      "source": [
        "model.summary()"
      ],
      "metadata": {
        "id": "bFMbb2EyBCoa",
        "colab": {
          "base_uri": "https://localhost:8080/"
        },
        "outputId": "c279cf9f-f8a6-418d-988c-6e2eb6c1e5c9"
      },
      "execution_count": null,
      "outputs": [
        {
          "output_type": "stream",
          "name": "stdout",
          "text": [
            "Model: \"sequential_1\"\n",
            "_________________________________________________________________\n",
            " Layer (type)                Output Shape              Param #   \n",
            "=================================================================\n",
            " conv2d_3 (Conv2D)           (None, 30, 30, 32)        896       \n",
            "                                                                 \n",
            " max_pooling2d_2 (MaxPooling  (None, 15, 15, 32)       0         \n",
            " 2D)                                                             \n",
            "                                                                 \n",
            " conv2d_4 (Conv2D)           (None, 13, 13, 64)        18496     \n",
            "                                                                 \n",
            " max_pooling2d_3 (MaxPooling  (None, 6, 6, 64)         0         \n",
            " 2D)                                                             \n",
            "                                                                 \n",
            " conv2d_5 (Conv2D)           (None, 4, 4, 64)          36928     \n",
            "                                                                 \n",
            " flatten_1 (Flatten)         (None, 1024)              0         \n",
            "                                                                 \n",
            " dense_2 (Dense)             (None, 64)                65600     \n",
            "                                                                 \n",
            " dense_3 (Dense)             (None, 10)                650       \n",
            "                                                                 \n",
            "=================================================================\n",
            "Total params: 122,570\n",
            "Trainable params: 122,570\n",
            "Non-trainable params: 0\n",
            "_________________________________________________________________\n"
          ]
        }
      ]
    },
    {
      "cell_type": "markdown",
      "source": [
        "## **Train model**"
      ],
      "metadata": {
        "id": "bb6oK6tTA6yf"
      }
    },
    {
      "cell_type": "code",
      "source": [
        "model.compile(optimizer='adam',loss=tf.keras.losses.SparseCategoricalCrossentropy(from_logits=True),metrics=['accuracy'])"
      ],
      "metadata": {
        "id": "IVWjjwlLC0AU"
      },
      "execution_count": null,
      "outputs": []
    },
    {
      "cell_type": "code",
      "source": [
        "history = model.fit(train_images, train_labels, epochs=15, validation_data=(test_images, test_labels))"
      ],
      "metadata": {
        "id": "w80BjV9DSvTL",
        "colab": {
          "base_uri": "https://localhost:8080/"
        },
        "outputId": "da0d21f7-d55b-4886-ceee-dc16ceecd9a2"
      },
      "execution_count": null,
      "outputs": [
        {
          "output_type": "stream",
          "name": "stdout",
          "text": [
            "Epoch 1/15\n",
            "1563/1563 [==============================] - 55s 35ms/step - loss: 1.5179 - accuracy: 0.4444 - val_loss: 1.2895 - val_accuracy: 0.5372\n",
            "Epoch 2/15\n",
            "1563/1563 [==============================] - 50s 32ms/step - loss: 1.1394 - accuracy: 0.5940 - val_loss: 1.1198 - val_accuracy: 0.5973\n",
            "Epoch 3/15\n",
            "1563/1563 [==============================] - 50s 32ms/step - loss: 0.9843 - accuracy: 0.6559 - val_loss: 0.9694 - val_accuracy: 0.6653\n",
            "Epoch 4/15\n",
            "1563/1563 [==============================] - 49s 32ms/step - loss: 0.8877 - accuracy: 0.6884 - val_loss: 0.9371 - val_accuracy: 0.6785\n",
            "Epoch 5/15\n",
            "1563/1563 [==============================] - 49s 32ms/step - loss: 0.8154 - accuracy: 0.7146 - val_loss: 0.8967 - val_accuracy: 0.6923\n",
            "Epoch 6/15\n",
            "1563/1563 [==============================] - 49s 32ms/step - loss: 0.7517 - accuracy: 0.7355 - val_loss: 0.8688 - val_accuracy: 0.6984\n",
            "Epoch 7/15\n",
            "1563/1563 [==============================] - 49s 32ms/step - loss: 0.6990 - accuracy: 0.7558 - val_loss: 0.8322 - val_accuracy: 0.7164\n",
            "Epoch 8/15\n",
            "1563/1563 [==============================] - 49s 32ms/step - loss: 0.6516 - accuracy: 0.7706 - val_loss: 0.8269 - val_accuracy: 0.7195\n",
            "Epoch 9/15\n",
            "1563/1563 [==============================] - 51s 33ms/step - loss: 0.6117 - accuracy: 0.7861 - val_loss: 0.8543 - val_accuracy: 0.7179\n",
            "Epoch 10/15\n",
            "1563/1563 [==============================] - 49s 31ms/step - loss: 0.5653 - accuracy: 0.7994 - val_loss: 0.8561 - val_accuracy: 0.7209\n",
            "Epoch 11/15\n",
            "1563/1563 [==============================] - 49s 31ms/step - loss: 0.5318 - accuracy: 0.8135 - val_loss: 0.8689 - val_accuracy: 0.7230\n",
            "Epoch 12/15\n",
            "1563/1563 [==============================] - 49s 32ms/step - loss: 0.4914 - accuracy: 0.8267 - val_loss: 0.9348 - val_accuracy: 0.7013\n",
            "Epoch 13/15\n",
            "1563/1563 [==============================] - 49s 32ms/step - loss: 0.4660 - accuracy: 0.8359 - val_loss: 0.9662 - val_accuracy: 0.7096\n",
            "Epoch 14/15\n",
            "1563/1563 [==============================] - 49s 32ms/step - loss: 0.4314 - accuracy: 0.8476 - val_loss: 1.0084 - val_accuracy: 0.7084\n",
            "Epoch 15/15\n",
            "1563/1563 [==============================] - 49s 32ms/step - loss: 0.4016 - accuracy: 0.8562 - val_loss: 1.0421 - val_accuracy: 0.7074\n"
          ]
        }
      ]
    },
    {
      "cell_type": "markdown",
      "source": [
        "## **Evaluate model**"
      ],
      "metadata": {
        "id": "FyZ0p5yNFflK"
      }
    },
    {
      "cell_type": "markdown",
      "source": [
        "### **print accuarcy and loss on test dataset**"
      ],
      "metadata": {
        "id": "l6LYo0NdJiI4"
      }
    },
    {
      "cell_type": "code",
      "source": [
        "test_loss, test_acc = model.evaluate(test_images,  test_labels, verbose=2)\n",
        "print(\"loss of test dataset:\"+ str(test_loss))\n",
        "print(\"accuracy of test dataset:\"+str(test_acc))"
      ],
      "metadata": {
        "id": "R_owVQ36IH9Q",
        "colab": {
          "base_uri": "https://localhost:8080/"
        },
        "outputId": "eb7904d3-0471-4a99-8832-8eee5ed42f46"
      },
      "execution_count": null,
      "outputs": [
        {
          "output_type": "stream",
          "name": "stdout",
          "text": [
            "313/313 - 3s - loss: 1.0421 - accuracy: 0.7074 - 3s/epoch - 9ms/step\n",
            "loss of test dataset:1.0420657396316528\n",
            "accuracy of test dataset:0.7074000239372253\n"
          ]
        }
      ]
    },
    {
      "cell_type": "markdown",
      "source": [
        "### **plot accuracy of each epoch on train and test dataset**"
      ],
      "metadata": {
        "id": "rCOB-NcUJsar"
      }
    },
    {
      "cell_type": "code",
      "source": [
        "plt.plot(history.history['accuracy'], label='accuracy')\n",
        "plt.plot(history.history['val_accuracy'], label = 'val_accuracy')\n",
        "plt.xlabel('Epoch')\n",
        "plt.ylabel('Accuracy')\n",
        "plt.ylim([0.5, 1])\n",
        "plt.legend(loc='lower right')"
      ],
      "metadata": {
        "id": "q7kBsgTywuLe",
        "colab": {
          "base_uri": "https://localhost:8080/",
          "height": 300
        },
        "outputId": "f54fd322-85cd-43e9-9cb2-63d0fdec5304"
      },
      "execution_count": null,
      "outputs": [
        {
          "output_type": "execute_result",
          "data": {
            "text/plain": [
              "<matplotlib.legend.Legend at 0x7f342c7a2e90>"
            ]
          },
          "metadata": {},
          "execution_count": 21
        },
        {
          "output_type": "display_data",
          "data": {
            "text/plain": [
              "<Figure size 432x288 with 1 Axes>"
            ],
            "image/png": "[encoded data removed]"
          },
          "metadata": {
            "needs_background": "light"
          }
        }
      ]
    },
    {
      "cell_type": "markdown",
      "source": [
        "\n",
        "### **plot loss of each epoch on train and test dataset**"
      ],
      "metadata": {
        "id": "f3gfR_IULexF"
      }
    },
    {
      "cell_type": "code",
      "source": [
        "plt.plot(history.history['loss'], label='loss')\n",
        "plt.plot(history.history['val_loss'], label = 'val_loss')\n",
        "plt.xlabel('Epoch')\n",
        "plt.ylabel('Loss')\n",
        "plt.ylim([0.5, 1])\n",
        "plt.legend(loc='lower right')"
      ],
      "metadata": {
        "id": "pCnEqKL-Iwi-",
        "colab": {
          "base_uri": "https://localhost:8080/",
          "height": 300
        },
        "outputId": "fe2477e0-3a34-43f3-f75e-0af3cef3d7dc"
      },
      "execution_count": null,
      "outputs": [
        {
          "output_type": "execute_result",
          "data": {
            "text/plain": [
              "<matplotlib.legend.Legend at 0x7f342c7ac090>"
            ]
          },
          "metadata": {},
          "execution_count": 22
        },
        {
          "output_type": "display_data",
          "data": {
            "text/plain": [
              "<Figure size 432x288 with 1 Axes>"
            ],
            "image/png": "[encoded data removed]"
          },
          "metadata": {
            "needs_background": "light"
          }
        }
      ]
    }
  ]
}